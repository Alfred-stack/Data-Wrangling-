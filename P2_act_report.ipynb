{
 "cells": [
  {
   "cell_type": "markdown",
   "metadata": {},
   "source": [
    "## Report: act_report\n",
    "* Create a **250-word-minimum written report** called \"act_report.pdf\" or \"act_report.html\" that communicates the insights and displays the visualization(s) produced from your wrangled data. This is to be framed as an external document, like a blog post or magazine article, for example."
   ]
  },
  {
   "cell_type": "markdown",
   "metadata": {},
   "source": [
    "**The aim of my visualisation** \n",
    "\n",
    "My visualization was carried out to answer the followint questions:\n",
    "\n",
    "- Is there a relationshop between favourite count and retweet\n",
    "-  what are the most popular breeds\n",
    "\n",
    "\n",
    "Question 1\n",
    "\n",
    "the dataset is gotten from twitter Api and as the name implies this dataset is about the ratings for dogs. so i used the bivariate data ``favourite count and retweet`` to see if there is a relationship and it turned out to be a **YES** because the scatter plot graph shows a positive relationship.\n",
    "\n",
    "Question 2 \n",
    "\n",
    "i also used the bivariate data the dog breeds which i had categorized into a single column earlier in the cleaning stage of the dataset and with this i was able to visualize and see the different ratings of the dogs accordingly."
   ]
  },
  {
   "cell_type": "code",
   "execution_count": null,
   "metadata": {},
   "outputs": [],
   "source": []
  }
 ],
 "metadata": {
  "kernelspec": {
   "display_name": "Python 3 (ipykernel)",
   "language": "python",
   "name": "python3"
  },
  "language_info": {
   "codemirror_mode": {
    "name": "ipython",
    "version": 3
   },
   "file_extension": ".py",
   "mimetype": "text/x-python",
   "name": "python",
   "nbconvert_exporter": "python",
   "pygments_lexer": "ipython3",
   "version": "3.8.13"
  }
 },
 "nbformat": 4,
 "nbformat_minor": 2
}
