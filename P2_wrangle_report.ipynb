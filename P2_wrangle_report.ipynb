{
 "cells": [
  {
   "cell_type": "markdown",
   "metadata": {},
   "source": [
    "## Reporting: wragle_report\n"
   ]
  },
  {
   "cell_type": "markdown",
   "metadata": {},
   "source": [
    "## Introduction\n",
    "\n",
    "    "
   ]
  },
  {
   "cell_type": "markdown",
   "metadata": {},
   "source": [
    "This report focuses on testing my data wrangling skills during the Alx, Udacity program. the data set analysed in this project is the Twitter Api data set known as WeRateDogs. WeRateDogs is a twitter account that rates peoples dogs and consists of funny comments. it is also rated by a numerator and denominator."
   ]
  },
  {
   "cell_type": "markdown",
   "metadata": {},
   "source": [
    "### Project Steps\n",
    "\n",
    "the project steps are as follows\n",
    "\n",
    "- Gather\n",
    "- Access \n",
    "- Clean\n",
    "- Visualize"
   ]
  },
  {
   "cell_type": "markdown",
   "metadata": {},
   "source": [
    "To briefly describe what went on in this project i will start by outlining the aformentioned steps.\n",
    "\n",
    "**Gather**\n",
    "I had to gather data which was given on Udacity platform the first was `` Twitter_archive_file`` which was a csv file. the second was ''Image with predictions of a neural network and this file is  `(image_predictions.tsv)``. and the last was Twitter Api/Json file, i used he Json file as i was unable to access Twitter Api.\n",
    "\n",
    "\n",
    "**Access**\n",
    "\n",
    "i used the programmatic method of assessing data mostly, with pandas function and methods. After which i divided the issues of the data into 2 parts namely; Quality and Tidiness.\n",
    "\n",
    "**Clean**\n",
    "\n",
    "Here i was able to identify issues in the dataframe, which ranged from ``(duplicates, inconsistency in the data, values filled with Non, Non-descriptive Column names amongst others)``.\n",
    "\n",
    "**Visualize**\n",
    "\n",
    "After all said and done it came down to visualization, which for me is a place of interest, plotting bars with Seaborn and python, ALthough i am still trying to get a solid grip on it.\n",
    "\n",
    "\n",
    "**Conclusion**\n",
    "\n",
    "As mentioned in the classroom by David, Data Wrangling is a core skill of a Data Scientist/Analyst, and is probably the most technical accept of the field. To cut to the chase, i have learnt the importance of investigating a dataset properly, the patience required and alot of codes to learn."
   ]
  },
  {
   "cell_type": "code",
   "execution_count": null,
   "metadata": {},
   "outputs": [],
   "source": []
  }
 ],
 "metadata": {
  "kernelspec": {
   "display_name": "Python 3 (ipykernel)",
   "language": "python",
   "name": "python3"
  },
  "language_info": {
   "codemirror_mode": {
    "name": "ipython",
    "version": 3
   },
   "file_extension": ".py",
   "mimetype": "text/x-python",
   "name": "python",
   "nbconvert_exporter": "python",
   "pygments_lexer": "ipython3",
   "version": "3.8.13"
  }
 },
 "nbformat": 4,
 "nbformat_minor": 2
}
